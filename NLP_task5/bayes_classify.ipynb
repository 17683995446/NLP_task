{
 "cells": [
  {
   "cell_type": "markdown",
   "metadata": {},
   "source": [
    "\n",
    "--------------\n",
    "参考: http://www.sohu.com/a/155288093_163476  \n",
    "数据集"
   ]
  },
  {
   "cell_type": "code",
   "execution_count": 25,
   "metadata": {},
   "outputs": [],
   "source": [
    "x=[\"a great game\",\"the election was over\",\"very clean match\",\"a clean but forgettable game\",\"it was a close election\"]\n",
    "y=[\"Sports\",\"Not sports\",\"Sports\",\"Sports\",\"Not sports\"]\n",
    "sample=\"A very close game\""
   ]
  },
  {
   "cell_type": "markdown",
   "metadata": {},
   "source": [
    "#### 特征工程  \n",
    "对于文本，需要将其转为数字。可以忽略掉词序和句子的构造，将一个文件当作一个词袋来表示。"
   ]
  },
  {
   "cell_type": "markdown",
   "metadata": {},
   "source": [
    "#### 贝叶斯定理\n",
    "如下图所示，贝叶斯为通过逆概求概率的过程。  \n",
    "a为序列sample(A very close game)为sports的概率，b为序列sample为non sports的概率。将a,b通过贝叶斯定理改变求sports发生的情况下，为序列sample的概率与在样本集发生sports这种类别的概率。而求某类别下序列的概率，在一个序列之间单词独立的假设下，将问题转为了某个类别下，发生这些单词的概率乘积。即为蓝色线条部分。"
   ]
  },
  {
   "cell_type": "markdown",
   "metadata": {},
   "source": [
    "![title](img/1.png)"
   ]
  },
  {
   "cell_type": "code",
   "execution_count": 26,
   "metadata": {},
   "outputs": [
    {
     "name": "stderr",
     "output_type": "stream",
     "text": [
      "'[Image' 不是内部或外部命令，也不是可运行的程序\n",
      "或批处理文件。\n"
     ]
    }
   ],
   "source": [
    "![Image of Yaktocat](https://octodex.github.com/images/yaktocat.png)"
   ]
  },
  {
   "cell_type": "code",
   "execution_count": 41,
   "metadata": {},
   "outputs": [
    {
     "name": "stdout",
     "output_type": "stream",
     "text": [
      "0.18181818181818182    0.09090909090909091    0.0    0.18181818181818182\n"
     ]
    }
   ],
   "source": [
    "#0，2，3下标的序列为sports。那么计算sports的单词\n",
    "x_words_sport=x[0].split()+x[2].split()+x[3].split()\n",
    "#对于序列 A very close game\n",
    "p_a_sports=x_words_sport.count(\"a\")/len(x_words_sport)\n",
    "p_very_sports=x_words_sport.count(\"very\")/len(x_words_sport)\n",
    "p_close_sports=x_words_sport.count(\"close\")/len(x_words_sport)\n",
    "p_game_sports=x_words_sport.count(\"game\")/len(x_words_sport)\n",
    "#那么p_close_sports由于在sports的类别中从来没有出现，所以起概率为0，导致最后计算乘积时，该序列出现的概率变为了0.\n",
    "print(p_a_sports,\"  \",p_very_sports,\"  \",p_close_sports,\"  \",p_game_sports)"
   ]
  },
  {
   "cell_type": "code",
   "execution_count": 36,
   "metadata": {},
   "outputs": [],
   "source": [
    "#引入可能使用到的单词，使用拉帕拉斯平滑解决，需要预测时，某个单词出现概率为0的情况。\n",
    "add_word=[ \"a\" ,\"great\" ,\"very\",\"over\",'it' ,'but','game','election','close','clean','the','was','forgettable','match']"
   ]
  },
  {
   "cell_type": "code",
   "execution_count": 56,
   "metadata": {},
   "outputs": [
    {
     "name": "stdout",
     "output_type": "stream",
     "text": [
      "0.12    0.08    0.04    0.12\n",
      "属于sport:  2.7647999999999993e-05\n",
      "10.49595716534263\n"
     ]
    }
   ],
   "source": [
    "#那么对于sports类别\n",
    "p_sport=3/5\n",
    "p_a_sports=(x_words_sport.count(\"a\")+1)/(len(x_words_sport)+len(add_word))\n",
    "p_very_sports=(x_words_sport.count(\"very\")+1)/(len(x_words_sport)+len(add_word))\n",
    "p_close_sports=(x_words_sport.count(\"close\")+1)/(len(x_words_sport)+len(add_word))\n",
    "p_game_sports=(x_words_sport.count(\"game\")+1)/(len(x_words_sport)+len(add_word))\n",
    "print(p_a_sports,\"  \",p_very_sports,\"  \",p_close_sports,\"  \",p_game_sports)\n",
    "p_sport_total=p_a_sports*p_very_sports*p_close_sports*p_game_sports*p_sport\n",
    "print(\"属于sport: \",p_sport_total)\n",
    "import math\n",
    "p_sport_total=abs(math.log(p_a_sports)+math.log(p_very_sports)+math.log(p_close_sports)+math.log(p_game_sports)+math.log(p_sport))\n",
    "print(p_sport_total)"
   ]
  },
  {
   "cell_type": "code",
   "execution_count": 43,
   "metadata": {},
   "outputs": [
    {
     "name": "stdout",
     "output_type": "stream",
     "text": [
      "9\n"
     ]
    }
   ],
   "source": [
    "x_words_non_sport=x[1].split()+x[4].split()\n",
    "print(len(x_words_non_sport))"
   ]
  },
  {
   "cell_type": "code",
   "execution_count": 57,
   "metadata": {},
   "outputs": [
    {
     "name": "stdout",
     "output_type": "stream",
     "text": [
      "0.08695652173913043    0.043478260869565216    0.08695652173913043    0.043478260869565216\n",
      "属于non_sport:  5.7175324559303314e-06\n",
      "12.071973234470862\n"
     ]
    }
   ],
   "source": [
    "#那么对于non_sports类别\n",
    "p_non_sport=2/5\n",
    "p_a_non_sports=(x_words_non_sport.count(\"a\")+1)/(len(x_words_non_sport)+len(add_word))\n",
    "p_very_non_sports=(x_words_non_sport.count(\"very\")+1)/(len(x_words_non_sport)+len(add_word))\n",
    "p_close_non_sports=(x_words_non_sport.count(\"close\")+1)/(len(x_words_non_sport)+len(add_word))\n",
    "p_game_non_sports=(x_words_non_sport.count(\"game\")+1)/(len(x_words_non_sport)+len(add_word))\n",
    "print(p_a_non_sports,\"  \",p_very_non_sports,\"  \",p_close_non_sports,\"  \",p_game_non_sports)\n",
    "p_non_sport_total=p_a_non_sports*p_very_non_sports*p_close_non_sports*p_game_non_sports*p_non_sport\n",
    "print(\"属于non_sport: \",p_non_sport_total)\n",
    "p_non_sport_total=abs(math.log(p_a_non_sports)+math.log(p_very_non_sports)+math.log(p_close_non_sports)+math.log(p_game_non_sports)+math.log(p_non_sport))\n",
    "print(p_non_sport_total)"
   ]
  },
  {
   "cell_type": "markdown",
   "metadata": {},
   "source": [
    "另外可以通过使用删除停用词，使用单词还原，ngram，tf-idf等特征来优化朴素贝叶斯。"
   ]
  },
  {
   "cell_type": "code",
   "execution_count": null,
   "metadata": {},
   "outputs": [],
   "source": []
  }
 ],
 "metadata": {
  "kernelspec": {
   "display_name": "Python 3",
   "language": "python",
   "name": "python3"
  },
  "language_info": {
   "codemirror_mode": {
    "name": "ipython",
    "version": 3
   },
   "file_extension": ".py",
   "mimetype": "text/x-python",
   "name": "python",
   "nbconvert_exporter": "python",
   "pygments_lexer": "ipython3",
   "version": "3.6.4"
  }
 },
 "nbformat": 4,
 "nbformat_minor": 2
}
